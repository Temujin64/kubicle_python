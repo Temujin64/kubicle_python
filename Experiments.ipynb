{
 "cells": [
  {
   "cell_type": "code",
   "execution_count": 14,
   "metadata": {},
   "outputs": [
    {
     "name": "stdout",
     "output_type": "stream",
     "text": [
      "What's your name? Asa\n"
     ]
    }
   ],
   "source": [
    "name=input(\"What's your name? \")"
   ]
  },
  {
   "cell_type": "code",
   "execution_count": 15,
   "metadata": {},
   "outputs": [
    {
     "name": "stdout",
     "output_type": "stream",
     "text": [
      "What's your favourite number? 22\n"
     ]
    }
   ],
   "source": [
    "number=input(\"What's your favourite number? \")"
   ]
  },
  {
   "cell_type": "code",
   "execution_count": 16,
   "metadata": {
    "scrolled": true
   },
   "outputs": [
    {
     "data": {
      "text/plain": [
       "\"Asa's favourite number is 22\""
      ]
     },
     "execution_count": 16,
     "metadata": {},
     "output_type": "execute_result"
    }
   ],
   "source": [
    "name+\"'s favourite number is \" + number"
   ]
  },
  {
   "cell_type": "code",
   "execution_count": 21,
   "metadata": {},
   "outputs": [
    {
     "data": {
      "text/plain": [
       "'22'"
      ]
     },
     "execution_count": 21,
     "metadata": {},
     "output_type": "execute_result"
    }
   ],
   "source": [
    "name\n",
    "number"
   ]
  },
  {
   "cell_type": "code",
   "execution_count": 22,
   "metadata": {},
   "outputs": [
    {
     "data": {
      "text/plain": [
       "10"
      ]
     },
     "execution_count": 22,
     "metadata": {},
     "output_type": "execute_result"
    }
   ],
   "source": [
    "10"
   ]
  },
  {
   "cell_type": "code",
   "execution_count": 23,
   "metadata": {},
   "outputs": [
    {
     "data": {
      "text/plain": [
       "10.2"
      ]
     },
     "execution_count": 23,
     "metadata": {},
     "output_type": "execute_result"
    }
   ],
   "source": [
    "10.2"
   ]
  },
  {
   "cell_type": "code",
   "execution_count": 26,
   "metadata": {},
   "outputs": [
    {
     "name": "stdout",
     "output_type": "stream",
     "text": [
      "False\n"
     ]
    }
   ],
   "source": [
    "print(10 < 9)"
   ]
  },
  {
   "cell_type": "code",
   "execution_count": 28,
   "metadata": {},
   "outputs": [
    {
     "data": {
      "text/plain": [
       "False"
      ]
     },
     "execution_count": 28,
     "metadata": {},
     "output_type": "execute_result"
    }
   ],
   "source": [
    "10 < 9"
   ]
  },
  {
   "cell_type": "code",
   "execution_count": 30,
   "metadata": {},
   "outputs": [],
   "source": [
    "boolv=True"
   ]
  },
  {
   "cell_type": "code",
   "execution_count": 31,
   "metadata": {},
   "outputs": [
    {
     "data": {
      "text/plain": [
       "True"
      ]
     },
     "execution_count": 31,
     "metadata": {},
     "output_type": "execute_result"
    }
   ],
   "source": [
    "boolv"
   ]
  },
  {
   "cell_type": "code",
   "execution_count": 34,
   "metadata": {},
   "outputs": [
    {
     "data": {
      "text/plain": [
       "True"
      ]
     },
     "execution_count": 34,
     "metadata": {},
     "output_type": "execute_result"
    }
   ],
   "source": [
    "10<11"
   ]
  },
  {
   "cell_type": "code",
   "execution_count": 36,
   "metadata": {},
   "outputs": [
    {
     "data": {
      "text/plain": [
       "False"
      ]
     },
     "execution_count": 36,
     "metadata": {},
     "output_type": "execute_result"
    }
   ],
   "source": [
    "20<5"
   ]
  },
  {
   "cell_type": "code",
   "execution_count": 37,
   "metadata": {},
   "outputs": [
    {
     "data": {
      "text/plain": [
       "182.0"
      ]
     },
     "execution_count": 37,
     "metadata": {},
     "output_type": "execute_result"
    }
   ],
   "source": [
    "2+(10000*0.018)"
   ]
  },
  {
   "cell_type": "code",
   "execution_count": 38,
   "metadata": {
    "scrolled": true
   },
   "outputs": [
    {
     "data": {
      "text/plain": [
       "\"You're impossible!\""
      ]
     },
     "execution_count": 38,
     "metadata": {},
     "output_type": "execute_result"
    }
   ],
   "source": [
    "'You\\'re impossible!'"
   ]
  },
  {
   "cell_type": "code",
   "execution_count": 41,
   "metadata": {
    "scrolled": true
   },
   "outputs": [
    {
     "name": "stdout",
     "output_type": "stream",
     "text": [
      "\"Knowledge is power\"- Francis Bacon\n"
     ]
    }
   ],
   "source": [
    "print('\"Knowledge is power\"- Francis Bacon')"
   ]
  },
  {
   "cell_type": "code",
   "execution_count": 42,
   "metadata": {},
   "outputs": [
    {
     "data": {
      "text/plain": [
       "'This is the second string'"
      ]
     },
     "execution_count": 42,
     "metadata": {},
     "output_type": "execute_result"
    }
   ],
   "source": [
    "\"This is the first string\"\n",
    "\"This is the second string\""
   ]
  },
  {
   "cell_type": "code",
   "execution_count": 43,
   "metadata": {},
   "outputs": [
    {
     "name": "stdout",
     "output_type": "stream",
     "text": [
      "This is the first string\n",
      "This is the second string\n"
     ]
    }
   ],
   "source": [
    "print(\"This is the first string\")\n",
    "print(\"This is the second string\")"
   ]
  },
  {
   "cell_type": "code",
   "execution_count": 45,
   "metadata": {},
   "outputs": [
    {
     "name": "stdout",
     "output_type": "stream",
     "text": [
      "t\n",
      "t\n"
     ]
    }
   ],
   "source": [
    "print(\"t\\nt\")"
   ]
  },
  {
   "cell_type": "code",
   "execution_count": 51,
   "metadata": {},
   "outputs": [
    {
     "name": "stdout",
     "output_type": "stream",
     "text": [
      "t\tt\n"
     ]
    }
   ],
   "source": [
    "print(\"t\\tt\")"
   ]
  },
  {
   "cell_type": "code",
   "execution_count": 54,
   "metadata": {},
   "outputs": [
    {
     "data": {
      "text/plain": [
       "'Second line.'"
      ]
     },
     "execution_count": 54,
     "metadata": {},
     "output_type": "execute_result"
    }
   ],
   "source": [
    "\"First line.\"\n",
    "\"Second line.\""
   ]
  },
  {
   "cell_type": "code",
   "execution_count": 60,
   "metadata": {},
   "outputs": [
    {
     "name": "stdout",
     "output_type": "stream",
     "text": [
      "First line.\n",
      "\tSecond line.\n",
      "\t\tThird line.\n"
     ]
    }
   ],
   "source": [
    "print(\"First line.\\n\\tSecond line.\\n\\t\\tThird line.\")"
   ]
  },
  {
   "cell_type": "code",
   "execution_count": 61,
   "metadata": {},
   "outputs": [
    {
     "data": {
      "text/plain": [
       "'First line.\\n\\tSecond line.\\n\\t\\tThird line.'"
      ]
     },
     "execution_count": 61,
     "metadata": {},
     "output_type": "execute_result"
    }
   ],
   "source": [
    "\"First line.\\n\\tSecond line.\\n\\t\\tThird line.\""
   ]
  },
  {
   "cell_type": "code",
   "execution_count": 2,
   "metadata": {},
   "outputs": [
    {
     "data": {
      "text/plain": [
       "'Test'"
      ]
     },
     "execution_count": 2,
     "metadata": {},
     "output_type": "execute_result"
    }
   ],
   "source": [
    "'Test'"
   ]
  },
  {
   "cell_type": "code",
   "execution_count": 3,
   "metadata": {},
   "outputs": [],
   "source": [
    "listv=[1,2,3]"
   ]
  },
  {
   "cell_type": "code",
   "execution_count": 10,
   "metadata": {},
   "outputs": [
    {
     "data": {
      "text/plain": [
       "[1, 2, 3]"
      ]
     },
     "execution_count": 10,
     "metadata": {},
     "output_type": "execute_result"
    }
   ],
   "source": [
    "listv"
   ]
  },
  {
   "cell_type": "code",
   "execution_count": 28,
   "metadata": {},
   "outputs": [
    {
     "name": "stdout",
     "output_type": "stream",
     "text": [
      "5 years:\n",
      "1276.2815625000003\n",
      "\n",
      "10 years:\n",
      "1628.894626777442\n",
      "\n",
      "15 years:\n",
      "2078.9281794113685\n",
      "\n",
      "20 years:\n",
      "2653.2977051444223\n",
      "\n",
      "25 years:\n",
      "3386.3549408993886\n"
     ]
    }
   ],
   "source": [
    "print('5 years:')\n",
    "print(1000*(1+0.05)**5)\n",
    "print()\n",
    "\n",
    "print('10 years:')\n",
    "print(1000*(1+0.05)**10)\n",
    "print()\n",
    "\n",
    "print('15 years:')\n",
    "print(1000*(1+0.05)**15)\n",
    "print()\n",
    "\n",
    "print('20 years:')\n",
    "print(1000*(1+0.05)**20)\n",
    "print()\n",
    "\n",
    "print('25 years:')\n",
    "print(1000*(1+0.05)**25)"
   ]
  },
  {
   "cell_type": "code",
   "execution_count": 30,
   "metadata": {},
   "outputs": [
    {
     "name": "stdout",
     "output_type": "stream",
     "text": [
      "5 years:\n",
      "12762.815625000003\n",
      "\n",
      "10 years:\n",
      "16288.94626777442\n",
      "\n",
      "15 years:\n",
      "20789.28179411369\n",
      "\n",
      "20 years:\n",
      "26532.97705144422\n",
      "\n",
      "25 years:\n",
      "33863.54940899389\n"
     ]
    }
   ],
   "source": [
    "principal=10000\n",
    "rate=0.05\n",
    "\n",
    "print('5 years:')\n",
    "print(principal*(1+rate)**5)\n",
    "print()\n",
    "print('10 years:')\n",
    "print(principal*(1+rate)**10)\n",
    "print()\n",
    "print('15 years:')\n",
    "print(principal*(1+rate)**15)\n",
    "print()\n",
    "print('20 years:')\n",
    "print(principal*(1+rate)**20)\n",
    "print()\n",
    "print('25 years:')\n",
    "print(principal*(1+rate)**25)"
   ]
  },
  {
   "cell_type": "code",
   "execution_count": 31,
   "metadata": {},
   "outputs": [],
   "source": [
    "jan_avg_temp = 11.6\n",
    "feb_avg_temp = 11.9\n",
    "mar_avg_temp = 13.8\n",
    "apr_avg_temp = 16.2\n",
    "may_avg_temp = 20.2\n",
    "jun_avg_temp = 24.3\n",
    "jul_avg_temp = 27.2\n",
    "aug_avg_temp = 27.7\n",
    "sep_avg_temp = 24.7\n",
    "oct_avg_temp = 21.1\n",
    "nov_avg_temp = 16.3\n",
    "dec_avg_temp = 12.8"
   ]
  },
  {
   "cell_type": "code",
   "execution_count": 57,
   "metadata": {},
   "outputs": [],
   "source": [
    "avg_temp = [11.6,11.9,13.8,\n",
    "            16.2,20.2,24.3,\n",
    "            27.2,27.7,24.7,\n",
    "            21.1,16.3,12.8]"
   ]
  },
  {
   "cell_type": "code",
   "execution_count": 41,
   "metadata": {},
   "outputs": [
    {
     "data": {
      "text/plain": [
       "[27.2, 27.7, 24.7, 21.1, 16.3, 12.8]"
      ]
     },
     "execution_count": 41,
     "metadata": {},
     "output_type": "execute_result"
    }
   ],
   "source": [
    "avg_temp[6:]"
   ]
  },
  {
   "cell_type": "code",
   "execution_count": 44,
   "metadata": {},
   "outputs": [],
   "source": [
    "avg_temp_name = [['jan',11.6],['feb',11.9],['mar',13.8],\n",
    "                 ['apr',16.2],['may',20.2],['jun',24.3],\n",
    "                 ['jul',27.2],['aug',27.7],['sep',24.7],\n",
    "                 ['oct',21.1],['nov',16.3],['dec',12.8]]"
   ]
  },
  {
   "cell_type": "code",
   "execution_count": 53,
   "metadata": {},
   "outputs": [],
   "source": [
    "q1_temp = avg_temp_name[:3]\n",
    "q2_temp = avg_temp_name[3:6]\n",
    "q3_temp = avg_temp_name[6:9]\n",
    "q4_temp = avg_temp_name[9:]"
   ]
  },
  {
   "cell_type": "code",
   "execution_count": 54,
   "metadata": {},
   "outputs": [
    {
     "name": "stdout",
     "output_type": "stream",
     "text": [
      "[['jan', 11.6], ['feb', 11.9], ['mar', 13.8]]\n",
      "[['apr', 16.2], ['may', 20.2], ['jun', 24.3]]\n",
      "[['jul', 27.2], ['aug', 27.7], ['sep', 24.7]]\n",
      "[['oct', 21.1], ['nov', 16.3], ['dec', 12.8]]\n"
     ]
    }
   ],
   "source": [
    "print(q1_temp[1])\n",
    "print(q2_temp)\n",
    "print(q3_temp)\n",
    "print(q4_temp)"
   ]
  },
  {
   "cell_type": "code",
   "execution_count": 55,
   "metadata": {},
   "outputs": [
    {
     "name": "stdout",
     "output_type": "stream",
     "text": [
      "['feb', 11.9]\n"
     ]
    }
   ],
   "source": [
    "print(q1_temp[1])"
   ]
  },
  {
   "cell_type": "code",
   "execution_count": 58,
   "metadata": {},
   "outputs": [
    {
     "name": "stdout",
     "output_type": "stream",
     "text": [
      "11.9\n"
     ]
    }
   ],
   "source": [
    "print(q1_temp[1][1])"
   ]
  },
  {
   "cell_type": "code",
   "execution_count": 67,
   "metadata": {},
   "outputs": [
    {
     "data": {
      "text/plain": [
       "[['nov', 16.3], ['dec', 12.8]]"
      ]
     },
     "execution_count": 67,
     "metadata": {},
     "output_type": "execute_result"
    }
   ],
   "source": [
    "avg_temp_name[10:13]"
   ]
  },
  {
   "cell_type": "code",
   "execution_count": 72,
   "metadata": {},
   "outputs": [
    {
     "data": {
      "text/plain": [
       "11.6"
      ]
     },
     "execution_count": 72,
     "metadata": {},
     "output_type": "execute_result"
    }
   ],
   "source": [
    "min(avg_temp)"
   ]
  },
  {
   "cell_type": "code",
   "execution_count": 91,
   "metadata": {},
   "outputs": [
    {
     "name": "stdout",
     "output_type": "stream",
     "text": [
      "Enter principle: 100000\n",
      "Enter rate of growth: 1\n",
      "Enter years of growth: 11\n",
      "With a principal amount of $100000 and rate of growth of 1.0, you can expect that after 11 years, your investment will be worth $204800000.0.\n"
     ]
    }
   ],
   "source": [
    "principal = int(input('Enter principle: '))\n",
    "rate = float(input('Enter rate of growth: '))\n",
    "years = int(input('Enter years of growth: '))\n",
    "\n",
    "compound_interest = round(principal*(1+rate)**years,2)\n",
    "\n",
    "text = \"With a principal amount of $\" + str(principal) + \" and rate of growth of \" + str(rate) + \", you can expect that after \"  + str(years) + \" years, your investment will be worth $\" + str(compound_interest) + \".\"\n",
    "\n",
    "print(text)\n",
    "\n",
    "file = open(\"compound_interest.txt\", \"w\")\n",
    "file.write(text)\n",
    "file.close()"
   ]
  },
  {
   "cell_type": "code",
   "execution_count": null,
   "metadata": {},
   "outputs": [],
   "source": []
  }
 ],
 "metadata": {
  "kernelspec": {
   "display_name": "Python 3",
   "language": "python",
   "name": "python3"
  },
  "language_info": {
   "codemirror_mode": {
    "name": "ipython",
    "version": 3
   },
   "file_extension": ".py",
   "mimetype": "text/x-python",
   "name": "python",
   "nbconvert_exporter": "python",
   "pygments_lexer": "ipython3",
   "version": "3.7.3"
  }
 },
 "nbformat": 4,
 "nbformat_minor": 2
}
